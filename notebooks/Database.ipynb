{
 "cells": [
  {
   "cell_type": "code",
   "execution_count": 1,
   "id": "2b265022",
   "metadata": {},
   "outputs": [],
   "source": [
    "import sqlite3\n",
    "import pickle\n",
    "from datetime import datetime\n",
    "import numpy as np"
   ]
  },
  {
   "cell_type": "code",
   "execution_count": 2,
   "id": "55f37041",
   "metadata": {},
   "outputs": [],
   "source": [
    "import sys\n",
    "sys.path.append('../flask_app/')\n",
    "import get_chatgpt_criteria\n",
    "import importlib\n",
    "importlib.reload(get_chatgpt_criteria)\n",
    "from get_chatgpt_criteria import *"
   ]
  },
  {
   "cell_type": "code",
   "execution_count": 3,
   "id": "66ff9844",
   "metadata": {},
   "outputs": [],
   "source": [
    "import re\n",
    "\n",
    "def parse_chatgpt_field(process_result, field):\n",
    "    parsed_manipulation_methods = []\n",
    "    if field not in process_result:\n",
    "        return []\n",
    "    lines = process_result[field].split('\\n')\n",
    "    for line in lines:\n",
    "        method = re.findall(r'(\\d+\\.(.*?)[:])', line)\n",
    "        if method:\n",
    "            method_name = method[0][1].strip()\n",
    "            if '(' in method_name:\n",
    "                method_example = re.findall(r'(\\((.*?)\\))', method_name)[0][0]\n",
    "                method_name = re.sub(r'\\s+', ' ', method_name.replace(method_example, '')).strip()\n",
    "            else:\n",
    "                method_example = ''\n",
    "            method_explanation = (method_example.strip() + \" \" + line.replace(method[0][0], '').strip()).strip()\n",
    "            parsed_manipulation_methods.append((method_name, method_explanation))\n",
    "    return parsed_manipulation_methods"
   ]
  },
  {
   "cell_type": "code",
   "execution_count": 4,
   "id": "d439137f",
   "metadata": {},
   "outputs": [],
   "source": [
    "sample = pickle.load(open('data/db_texts.p', 'rb'))\n",
    "text2chatgpt_output = pickle.load(open('text2chatgpt_output_sample_011023_temp0.p', 'rb'))"
   ]
  },
  {
   "cell_type": "code",
   "execution_count": 5,
   "id": "cb3129a7",
   "metadata": {},
   "outputs": [],
   "source": [
    "telegram_record = sample[0]"
   ]
  },
  {
   "cell_type": "code",
   "execution_count": 6,
   "id": "8b4865f0",
   "metadata": {
    "scrolled": true
   },
   "outputs": [
    {
     "data": {
      "text/plain": [
       "930"
      ]
     },
     "execution_count": 6,
     "metadata": {},
     "output_type": "execute_result"
    }
   ],
   "source": [
    "len(text2chatgpt_output)"
   ]
  },
  {
   "cell_type": "code",
   "execution_count": 7,
   "id": "b5f082ed",
   "metadata": {},
   "outputs": [
    {
     "data": {
      "text/plain": [
       "8923"
      ]
     },
     "execution_count": 7,
     "metadata": {},
     "output_type": "execute_result"
    }
   ],
   "source": [
    "max([len(x['text']) for x in sample if isinstance(x['text'], str)])"
   ]
  },
  {
   "cell_type": "code",
   "execution_count": 8,
   "id": "c1ff3641",
   "metadata": {},
   "outputs": [
    {
     "data": {
      "text/plain": [
       "100.0"
      ]
     },
     "execution_count": 8,
     "metadata": {},
     "output_type": "execute_result"
    }
   ],
   "source": [
    "np.median([len(x['text']) for x in sample if isinstance(x['text'], str)])"
   ]
  },
  {
   "cell_type": "code",
   "execution_count": 9,
   "id": "c300504a",
   "metadata": {
    "scrolled": true
   },
   "outputs": [
    {
     "data": {
      "text/plain": [
       "400.0"
      ]
     },
     "execution_count": 9,
     "metadata": {},
     "output_type": "execute_result"
    }
   ],
   "source": [
    "np.median([len(x['tg_preview_text']) for x in sample if isinstance(x['text'], str)])"
   ]
  },
  {
   "cell_type": "code",
   "execution_count": 10,
   "id": "c1014b42",
   "metadata": {},
   "outputs": [
    {
     "data": {
      "text/plain": [
       "2006"
      ]
     },
     "execution_count": 10,
     "metadata": {},
     "output_type": "execute_result"
    }
   ],
   "source": [
    "np.max([len(x['tg_preview_text']) for x in sample if isinstance(x['text'], str)])"
   ]
  },
  {
   "cell_type": "code",
   "execution_count": 11,
   "id": "363aef8a",
   "metadata": {},
   "outputs": [
    {
     "name": "stderr",
     "output_type": "stream",
     "text": [
      "100%|████████████████████████████████████████████████████████████████████████████████████████| 3000/3000 [00:00<00:00, 23420.00it/s]\n"
     ]
    }
   ],
   "source": [
    "import time\n",
    "from tqdm import tqdm\n",
    "\n",
    "all_parsed_manipulation_methods = []\n",
    "all_parsed_logical_fallacies = []\n",
    "errors = []\n",
    "db_records = []\n",
    "# LENGTH_THRESHOLD = {'MIN': 30, 'MAX': 2048}\n",
    "\n",
    "for i, telegram_record in enumerate(tqdm(sample)):\n",
    "    db_record = {}\n",
    "    text_to_check = ''\n",
    "    for field in ['tg_preview_text']:#, 'text']:\n",
    "        if isinstance(telegram_record[field], str):\n",
    "            text_to_check += telegram_record[field] + \" \"\n",
    "    text_to_check = text_to_check.strip()\n",
    "    if text_to_check:\n",
    "        if text_to_check in text2chatgpt_output:\n",
    "            process_result = text2chatgpt_output[text_to_check]\n",
    "        else:\n",
    "            process_result = {}\n",
    "    else:\n",
    "        process_result = {}\n",
    "    if process_result:\n",
    "        try:\n",
    "            db_record['text'] = telegram_record['tg_preview_text']\n",
    "            db_record['source'] = telegram_record['channel']\n",
    "            db_record['date'] = telegram_record['created_at'].strftime('%Y-%m-%d %H:%M:%S')\n",
    "            db_record['url'] = telegram_record['message_url']\n",
    "            db_record['platform'] = 'telegram'\n",
    "            db_record['full_text'] = telegram_record['text'] if isinstance(telegram_record['text'], str) else ''\n",
    "            db_record['title'] = telegram_record.get('title', '')\n",
    "        except Exception as e:\n",
    "            errors.append((i, e, 'failed to process telegram record'))\n",
    "            print((i, e, 'failed to process telegram record'))\n",
    "            db_record['text'] = 'unprocessed'\n",
    "            db_record['source'] = 'unprocessed'\n",
    "            db_record['date'] = 'unprocessed'\n",
    "            db_record['url'] = 'unprocessed'\n",
    "            db_record['platform'] = 'telegram'\n",
    "            db_record['full_text'] = 'unprocessed'\n",
    "            db_record['title'] = 'unprocessed'\n",
    "        try:\n",
    "            db_record['text_type'] = process_result['text_type'].lower()\n",
    "            db_record['source_references'] = process_result.get('references', 'uncalculated')\n",
    "            db_record['source_references_present'] = process_result.get('references_present', 0)\n",
    "            db_record['logical_fallacies_present'] = process_result.get('logical_fallacies_present', 0)\n",
    "            db_record['hatespeech_present'] = 0 if any(x in process_result.get('hatespeech', 'не найден') for x in ['не найден', 'не обнаружен', 'отсутствует']) else 1\n",
    "            db_record['hatespeech_indicators'] = process_result.get('hatespeech', 'uncalculated')\n",
    "            parsed_manipulation_methods = parse_chatgpt_field(process_result, 'manipulation_methods')\n",
    "            all_parsed_manipulation_methods.append(parsed_manipulation_methods)\n",
    "            parsed_logical_fallacies = parse_chatgpt_field(process_result, 'logical_fallacies')\n",
    "            all_parsed_logical_fallacies.append(parsed_logical_fallacies)\n",
    "        except Exception as e:\n",
    "            errors.append((i, e, 'failed to parse chatgpt output'))\n",
    "            print((i, e, 'failed to parse chatgpt output'))\n",
    "    else:\n",
    "        db_record['text_type'] = 'undefined'\n",
    "        db_record['source_references'] = 'uncalculated'\n",
    "        db_record['source_references_present'] = 0\n",
    "        db_record['logical_fallacies_present'] = 0\n",
    "        db_record['hatespeech_present'] = 0\n",
    "        db_record['hatespeech_indicators'] = 'uncalculated'\n",
    "    if 'text' in db_record:\n",
    "        db_records.append(db_record)"
   ]
  },
  {
   "cell_type": "code",
   "execution_count": 12,
   "id": "28e2c57b",
   "metadata": {},
   "outputs": [],
   "source": [
    "def simplify_text_type(db_record_text_type):\n",
    "    for text_type in text_types:\n",
    "        if text_type in db_record_text_type:\n",
    "            return text_type\n",
    "    if 'коммент' in db_record_text_type:\n",
    "        return 'публичный комментарий'\n",
    "    if 'стать' in db_record_text_type:\n",
    "        return 'статья'\n",
    "    if 'новост' in db_record_text_type:\n",
    "        return 'новость'\n",
    "    return 'другое'"
   ]
  },
  {
   "cell_type": "code",
   "execution_count": 13,
   "id": "afb8d47a",
   "metadata": {},
   "outputs": [],
   "source": [
    "import sqlite3\n",
    "from datetime import datetime\n",
    "\n",
    "# Connect to the SQLite database (or create a new one if it doesn't exist)\n",
    "conn = sqlite3.connect('sample_database.db')\n",
    "cursor = conn.cursor()\n",
    "\n",
    "text_types = ('личное сообщение', 'статья', 'новость', 'запись в личном блоге', 'публичный комментарий', 'другое', 'undefined')\n",
    "# Create the 'texts' table\n",
    "cursor.execute(f'''\n",
    "    CREATE TABLE IF NOT EXISTS texts (\n",
    "        id INTEGER PRIMARY KEY AUTOINCREMENT,\n",
    "        text TEXT,\n",
    "        source TEXT,\n",
    "        text_type TEXT CHECK(text_type IN {text_types}),\n",
    "        date TIMESTAMP,\n",
    "        url TEXT,\n",
    "        platform TEXT,\n",
    "        full_text TEXT,\n",
    "        title TEXT,\n",
    "        source_references TEXT,\n",
    "        source_references_present BOOLEAN,\n",
    "        logical_fallacies_present BOOLEAN,\n",
    "        hatespeech_present BOOLEAN,\n",
    "        hatespeech_indicators TEXT)\n",
    "''')\n",
    "\n",
    "for db_record in db_records:\n",
    "\n",
    "    cursor.execute('''\n",
    "        INSERT INTO texts (\n",
    "            text, source, text_type, date, url, platform, full_text, title, source_references,\n",
    "            source_references_present, logical_fallacies_present,\n",
    "            hatespeech_present, hatespeech_indicators\n",
    "        ) VALUES (?, ?, ?, ?, ?, ?, ?, ?, ?, ?, ?, ?, ?)\n",
    "    ''', (\n",
    "        db_record['text'], db_record['source'], simplify_text_type(db_record['text_type']),\n",
    "        db_record['date'], db_record['url'], db_record['platform'],\n",
    "        db_record['full_text'], db_record['title'], db_record['source_references'],\n",
    "        db_record['source_references_present'], db_record['logical_fallacies_present'],\n",
    "        db_record['hatespeech_present'], db_record['hatespeech_indicators']\n",
    "    ))\n",
    "    conn.commit()\n",
    "\n",
    "# Commit changes and close the connection\n",
    "conn.commit()\n",
    "conn.close()"
   ]
  },
  {
   "cell_type": "code",
   "execution_count": 14,
   "id": "9b6f0c07",
   "metadata": {},
   "outputs": [],
   "source": [
    "conn = sqlite3.connect('sample_database.db')\n",
    "cursor = conn.cursor()\n",
    "# Create the 'manipulation_methods' table\n",
    "cursor.execute('''\n",
    "    CREATE TABLE IF NOT EXISTS manipulation_methods (\n",
    "        id INTEGER PRIMARY KEY AUTOINCREMENT,\n",
    "        manipulation_method_name TEXT)\n",
    "''')\n",
    "\n",
    "# Create the 'logical_fallacies' table\n",
    "cursor.execute('''\n",
    "    CREATE TABLE IF NOT EXISTS logical_fallacies (\n",
    "        id INTEGER PRIMARY KEY AUTOINCREMENT,\n",
    "        logical_fallacy_name TEXT)\n",
    "''')\n",
    "\n",
    "# Create the 'text_2_manipulation_methods' junction table\n",
    "cursor.execute('''\n",
    "    CREATE TABLE IF NOT EXISTS text_2_manipulation_methods (\n",
    "        text_id INTEGER,\n",
    "        manipulation_method_id INTEGER,\n",
    "        manipulation_method_explanation TEXT,\n",
    "        FOREIGN KEY (text_id) REFERENCES texts (id),\n",
    "        FOREIGN KEY (manipulation_method_id) REFERENCES manipulation_methods (id),\n",
    "        PRIMARY KEY (text_id, manipulation_method_id)\n",
    "    )\n",
    "''')\n",
    "\n",
    "\n",
    "# Create the 'text_2_logical_fallacies' junction table\n",
    "cursor.execute('''\n",
    "    CREATE TABLE IF NOT EXISTS text_2_logical_fallacies (\n",
    "        text_id INTEGER,\n",
    "        logical_fallacy_id INTEGER,\n",
    "        logical_fallacy_explanation TEXT,\n",
    "        FOREIGN KEY (text_id) REFERENCES texts (id),\n",
    "        FOREIGN KEY (logical_fallacy_id) REFERENCES manipulation_methods (id),\n",
    "        PRIMARY KEY (text_id, logical_fallacy_id)\n",
    "    )\n",
    "''')\n",
    "\n",
    "manipulation_methods = sorted(set([y[0] for x in all_parsed_manipulation_methods for y in x]))\n",
    "# Insert manipulation methods into the 'manipulation_methods' table\n",
    "for method in manipulation_methods:\n",
    "    cursor.execute('INSERT INTO manipulation_methods (manipulation_method_name) VALUES (?)', (method,))\n",
    "logical_fallacies = sorted(set([y[0] for x in all_parsed_logical_fallacies for y in x]))\n",
    "# Insert manipulation methods into the 'manipulation_methods' table\n",
    "for logical_fallacy in logical_fallacies:\n",
    "    cursor.execute('INSERT INTO logical_fallacies (logical_fallacy_name) VALUES (?)', (logical_fallacy,))\n",
    "    \n",
    "# Commit changes and close the connection\n",
    "conn.commit()\n",
    "conn.close()"
   ]
  },
  {
   "cell_type": "code",
   "execution_count": 15,
   "id": "d02adc20",
   "metadata": {},
   "outputs": [
    {
     "name": "stdout",
     "output_type": "stream",
     "text": [
      "37 34 91 9 88 68 72 1 65 51 45 49 14 97 42 48 33 23 66 61 59 98 2 31 12 57 35 58 85 46 47 28 70 94 67 41 55 15 83 24 25 53 30 40 56 99 93 26 38 22 79 20 62 64 84 3 43 18 8 39 17 52 90 60 77 11 63 86 29 32 92 73 27 75 13 50 21 80 5 82 89 76 54 96 7 81 95 87 16 71 19 6 74 44 10 36 78 69 4 "
     ]
    }
   ],
   "source": [
    "conn = sqlite3.connect('sample_database.db')\n",
    "for method_name in {y[0] for x in all_parsed_manipulation_methods for y in x}:\n",
    "    cursor = conn.cursor()\n",
    "    cursor.execute('''\n",
    "                SELECT id FROM manipulation_methods\n",
    "                WHERE manipulation_method_name = ?\n",
    "            ''', (method_name,))\n",
    "    print(cursor.fetchone()[0], end = ' ')\n",
    "conn.close()"
   ]
  },
  {
   "cell_type": "code",
   "execution_count": 16,
   "id": "1ceeb7be",
   "metadata": {},
   "outputs": [
    {
     "name": "stdout",
     "output_type": "stream",
     "text": [
      "291 1\n"
     ]
    }
   ],
   "source": [
    "conn = sqlite3.connect('sample_database.db')\n",
    "cursor = conn.cursor()\n",
    "errors = []\n",
    "for i, record in enumerate(db_records):\n",
    "    current_manips = all_parsed_manipulation_methods[i]\n",
    "    cursor.execute('''\n",
    "            SELECT id FROM texts\n",
    "            WHERE text = ?\n",
    "        ''', (record['text'],))\n",
    "    text_id = cursor.fetchone()[0]\n",
    "\n",
    "    # Associate manipulation methods with the texts article in the 'texts_manipulation' table\n",
    "    for method in current_manips:\n",
    "        try:\n",
    "            cursor.execute('''\n",
    "                INSERT INTO text_2_manipulation_methods (text_id, manipulation_method_id, manipulation_method_explanation)\n",
    "                VALUES (?, (SELECT id FROM manipulation_methods WHERE manipulation_method_name = ?), ?)\n",
    "            ''', (text_id, method[0], method[1]))\n",
    "        except Exception as e:\n",
    "            errors.append(str(e))\n",
    "print(len(errors), len(set(errors)))\n",
    "# Commit changes and close the connection\n",
    "conn.commit()\n",
    "conn.close()"
   ]
  },
  {
   "cell_type": "code",
   "execution_count": 17,
   "id": "f7452046",
   "metadata": {},
   "outputs": [
    {
     "data": {
      "text/plain": [
       "{'UNIQUE constraint failed: text_2_manipulation_methods.text_id, text_2_manipulation_methods.manipulation_method_id'}"
      ]
     },
     "execution_count": 17,
     "metadata": {},
     "output_type": "execute_result"
    }
   ],
   "source": [
    "set(errors)"
   ]
  },
  {
   "cell_type": "code",
   "execution_count": 19,
   "id": "b18d7e26",
   "metadata": {},
   "outputs": [
    {
     "name": "stdout",
     "output_type": "stream",
     "text": [
      "4327\n"
     ]
    }
   ],
   "source": [
    "conn = sqlite3.connect('sample_database.db')\n",
    "cursor = conn.cursor()\n",
    "cursor.execute('''\n",
    "    SELECT * FROM text_2_manipulation_methods\n",
    "''')\n",
    "\n",
    "# Fetch all the records\n",
    "records = cursor.fetchall()\n",
    "print(len(records))\n",
    "conn.close()"
   ]
  },
  {
   "cell_type": "code",
   "execution_count": 20,
   "id": "cf249a0c",
   "metadata": {},
   "outputs": [
    {
     "data": {
      "text/plain": [
       "(2,\n",
       " 31,\n",
       " 'В тексте упоминается только одна сторона - контролируемая Республиканской партией палата представителей США. Это создает впечатление, что других мнений или точек зрения нет.')"
      ]
     },
     "execution_count": 20,
     "metadata": {},
     "output_type": "execute_result"
    }
   ],
   "source": [
    "records[0]"
   ]
  },
  {
   "cell_type": "code",
   "execution_count": 21,
   "id": "0ea004ce",
   "metadata": {},
   "outputs": [
    {
     "data": {
      "text/plain": [
       "(2,\n",
       " 'Контролируемая Республиканской партией палата представителей США представила собственный проект финансирования правительства на 45 дней, не включающего помощь Украине, сообщил конгрессмен Коул. Голосование по нему может состояться уже в ближайшее время.',\n",
       " 'rian_ru',\n",
       " 'новость',\n",
       " '2023-09-30 18:42:35',\n",
       " 'https://t.me/rian_ru/216889',\n",
       " 'telegram',\n",
       " '',\n",
       " '',\n",
       " 'Источники: не обнаружены.',\n",
       " 0,\n",
       " 0,\n",
       " 1,\n",
       " 'В данном тексте нет дискриминирующей, стигматизирующей или провоцирующей ненависть лексики, высказываний или идей.')"
      ]
     },
     "execution_count": 21,
     "metadata": {},
     "output_type": "execute_result"
    }
   ],
   "source": [
    "conn = sqlite3.connect('sample_database.db')\n",
    "text_id = 2\n",
    "cursor = conn.cursor()\n",
    "cursor.execute('''\n",
    "        SELECT * FROM texts\n",
    "        WHERE id = ?\n",
    "    ''', (text_id,))\n",
    "text_details = cursor.fetchone()\n",
    "conn.close()\n",
    "text_details"
   ]
  },
  {
   "cell_type": "code",
   "execution_count": 22,
   "id": "40acc269",
   "metadata": {},
   "outputs": [
    {
     "name": "stdout",
     "output_type": "stream",
     "text": [
      "Влияние на эмоции и ценности, Использование выборочной информации, Манипуляция через акцентирование внимания на последствиях для личности/группы, Некорректное обобщение, Отсутствие контекста, Отсутствие противоположной точки зрения, Подмена понятий\n"
     ]
    }
   ],
   "source": [
    "conn = sqlite3.connect('sample_database.db')\n",
    "cursor = conn.cursor()\n",
    "cursor.execute('''\n",
    "    SELECT * FROM text_2_manipulation_methods \n",
    "    WHERE text_id = ?\n",
    "''', (text_details[0],))\n",
    "\n",
    "# Fetch all the records\n",
    "records = cursor.fetchall()\n",
    "manip_ids = [r[1] for r in records]\n",
    "manip_labels = []\n",
    "for manip_id in manip_ids:\n",
    "    cursor.execute('''\n",
    "        SELECT * FROM manipulation_methods \n",
    "        WHERE id = ?\n",
    "    ''', (manip_id,))\n",
    "\n",
    "    # Fetch all the records\n",
    "    records = cursor.fetchall()\n",
    "    manip_labels.extend([r[1] for r in records])\n",
    "print(', '.join(sorted(set(manip_labels))))\n",
    "conn.close()"
   ]
  }
 ],
 "metadata": {
  "kernelspec": {
   "display_name": "Python 3 (ipykernel)",
   "language": "python",
   "name": "python3"
  },
  "language_info": {
   "codemirror_mode": {
    "name": "ipython",
    "version": 3
   },
   "file_extension": ".py",
   "mimetype": "text/x-python",
   "name": "python",
   "nbconvert_exporter": "python",
   "pygments_lexer": "ipython3",
   "version": "3.10.7"
  }
 },
 "nbformat": 4,
 "nbformat_minor": 5
}
